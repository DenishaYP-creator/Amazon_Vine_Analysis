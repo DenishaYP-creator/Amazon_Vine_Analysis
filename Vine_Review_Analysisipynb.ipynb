{
  "nbformat": 4,
  "nbformat_minor": 0,
  "metadata": {
    "colab": {
      "name": "Vine_Review_Analysis.ipynb",
      "provenance": [],
      "collapsed_sections": []
    },
    "kernelspec": {
      "name": "python3",
      "display_name": "Python 3"
    },
    "nteract": {
      "version": "0.12.3"
    },
    "language_info": {
      "name": "python"
    }
  },
  "cells": [
    {
      "cell_type": "code",
      "metadata": {
        "id": "V58rxea0HqSa",
        "colab": {
          "base_uri": "https://localhost:8080/"
        },
        "outputId": "dd25a427-5d0c-40d9-fb4f-0ea7c4e285cb"
      },
      "source": [
        "import os\n",
        "# Find the latest version of spark 3.0  from http://www-us.apache.org/dist/spark/ and enter as the spark version\n",
        "# For example:\n",
        "# spark_version = 'spark-3.0.2'\n",
        "spark_version = 'spark-3.1.2'\n",
        "os.environ['SPARK_VERSION']=spark_version\n",
        "\n",
        "# Install Spark and Java\n",
        "!apt-get update\n",
        "!apt-get install openjdk-11-jdk-headless -qq > /dev/null\n",
        "!wget -q http://www-us.apache.org/dist/spark/$SPARK_VERSION/$SPARK_VERSION-bin-hadoop2.7.tgz\n",
        "!tar xf $SPARK_VERSION-bin-hadoop2.7.tgz\n",
        "!pip install -q findspark\n",
        "\n",
        "# Set Environment Variables\n",
        "os.environ[\"JAVA_HOME\"] = \"/usr/lib/jvm/java-11-openjdk-amd64\"\n",
        "os.environ[\"SPARK_HOME\"] = f\"/content/{spark_version}-bin-hadoop2.7\"\n",
        "\n",
        "# Start a SparkSession\n",
        "import findspark\n",
        "findspark.init()"
      ],
      "execution_count": 1,
      "outputs": [
        {
          "output_type": "stream",
          "text": [
            "\r0% [Working]\r            \rIgn:1 https://developer.download.nvidia.com/compute/cuda/repos/ubuntu1804/x86_64  InRelease\n",
            "\r0% [Connecting to archive.ubuntu.com (91.189.88.152)] [Connecting to security.u\r                                                                               \rIgn:2 https://developer.download.nvidia.com/compute/machine-learning/repos/ubuntu1804/x86_64  InRelease\n",
            "\r0% [Connecting to archive.ubuntu.com (91.189.88.152)] [Connecting to security.u\r                                                                               \rGet:3 https://developer.download.nvidia.com/compute/cuda/repos/ubuntu1804/x86_64  Release [697 B]\n",
            "\r0% [Connecting to archive.ubuntu.com (91.189.88.152)] [Connecting to security.u\r0% [Connecting to archive.ubuntu.com (91.189.88.152)] [Connecting to security.u\r                                                                               \rHit:4 https://developer.download.nvidia.com/compute/machine-learning/repos/ubuntu1804/x86_64  Release\n",
            "Get:5 https://developer.download.nvidia.com/compute/cuda/repos/ubuntu1804/x86_64  Release.gpg [836 B]\n",
            "Get:6 http://security.ubuntu.com/ubuntu bionic-security InRelease [88.7 kB]\n",
            "Hit:7 http://archive.ubuntu.com/ubuntu bionic InRelease\n",
            "Hit:8 http://ppa.launchpad.net/c2d4u.team/c2d4u4.0+/ubuntu bionic InRelease\n",
            "Hit:9 https://cloud.r-project.org/bin/linux/ubuntu bionic-cran40/ InRelease\n",
            "Get:10 http://archive.ubuntu.com/ubuntu bionic-updates InRelease [88.7 kB]\n",
            "Hit:12 http://ppa.launchpad.net/cran/libgit2/ubuntu bionic InRelease\n",
            "Get:13 http://ppa.launchpad.net/deadsnakes/ppa/ubuntu bionic InRelease [15.9 kB]\n",
            "Get:14 http://archive.ubuntu.com/ubuntu bionic-backports InRelease [74.6 kB]\n",
            "Ign:15 https://developer.download.nvidia.com/compute/cuda/repos/ubuntu1804/x86_64  Packages\n",
            "Get:15 https://developer.download.nvidia.com/compute/cuda/repos/ubuntu1804/x86_64  Packages [599 kB]\n",
            "Hit:16 http://ppa.launchpad.net/graphics-drivers/ppa/ubuntu bionic InRelease\n",
            "Get:17 http://security.ubuntu.com/ubuntu bionic-security/universe amd64 Packages [1,415 kB]\n",
            "Get:18 http://security.ubuntu.com/ubuntu bionic-security/main amd64 Packages [2,185 kB]\n",
            "Get:19 http://archive.ubuntu.com/ubuntu bionic-updates/main amd64 Packages [2,619 kB]\n",
            "Get:20 http://ppa.launchpad.net/deadsnakes/ppa/ubuntu bionic/main amd64 Packages [40.9 kB]\n",
            "Get:21 http://archive.ubuntu.com/ubuntu bionic-updates/universe amd64 Packages [2,185 kB]\n",
            "Fetched 9,312 kB in 3s (2,745 kB/s)\n",
            "Reading package lists... Done\n"
          ],
          "name": "stdout"
        }
      ]
    },
    {
      "cell_type": "code",
      "metadata": {
        "id": "_xKwTpATHqSe"
      },
      "source": [
        "# Download the Postgres driver that will allow Spark to interact with Postgres.\n",
        "#!wget https://jdbc.postgresql.org/download/postgresql-42.2.16.jar"
      ],
      "execution_count": 2,
      "outputs": []
    },
    {
      "cell_type": "code",
      "metadata": {
        "id": "MMqDAjVS0KN9"
      },
      "source": [
        "from pyspark.sql import SparkSession\n",
        "spark = SparkSession.builder.appName(\"Vine_Review_Analysis\").config(\"spark.driver.extraClassPath\",\"/content/postgresql-42.2.16.jar\").getOrCreate()"
      ],
      "execution_count": 3,
      "outputs": []
    },
    {
      "cell_type": "markdown",
      "metadata": {
        "id": "cyBsySGuY-9V"
      },
      "source": [
        "### Load Amazon Data into Spark DataFrame"
      ]
    },
    {
      "cell_type": "code",
      "metadata": {
        "id": "CtCmBhQJY-9Z"
      },
      "source": [
        "from pyspark import SparkFiles\n",
        "url = \"https://s3.amazonaws.com/amazon-reviews-pds/tsv/amazon_reviews_us_Furniture_v1_00.tsv.gz\"\n",
        "spark.sparkContext.addFile(url)\n",
        "df = spark.read.option(\"encoding\", \"UTF-8\").csv(SparkFiles.get(\"amazon_reviews_us_Furniture_v1_00.tsv.gz\"), sep=\"\\t\", header=True, inferSchema=True)"
      ],
      "execution_count": 4,
      "outputs": []
    },
    {
      "cell_type": "code",
      "metadata": {
        "id": "6mwVsHPO2nY0"
      },
      "source": [
        "#from pyspark.sql.types import StructType,StructField,StringType,ArrayType,MapType\n",
        "#from pyspark.sql.functions import expr,when,col,lit,sum,avg,max\n",
        "#spark.conf.set('spark.sql.repl.eagerEval.enabled', True)"
      ],
      "execution_count": 5,
      "outputs": []
    },
    {
      "cell_type": "markdown",
      "metadata": {
        "id": "2yUSe55VY-9t"
      },
      "source": [
        "### Create DataFrames to match tables"
      ]
    },
    {
      "cell_type": "code",
      "metadata": {
        "id": "C8REmY1aY-9u",
        "colab": {
          "base_uri": "https://localhost:8080/"
        },
        "outputId": "5caec9b2-efda-453c-b636-4eac1ec60228"
      },
      "source": [
        "from pyspark.sql.functions import to_date \n",
        "from pyspark.sql import Row, DataFrame, column\n",
        "from pyspark.sql.types import IntegerType\n",
        "# Read in the Review dataset as a DataFrame\n",
        "df.show()"
      ],
      "execution_count": 6,
      "outputs": [
        {
          "output_type": "stream",
          "text": [
            "+-----------+-----------+--------------+----------+--------------+--------------------+----------------+-----------+-------------+-----------+----+-----------------+--------------------+--------------------+-----------+\n",
            "|marketplace|customer_id|     review_id|product_id|product_parent|       product_title|product_category|star_rating|helpful_votes|total_votes|vine|verified_purchase|     review_headline|         review_body|review_date|\n",
            "+-----------+-----------+--------------+----------+--------------+--------------------+----------------+-----------+-------------+-----------+----+-----------------+--------------------+--------------------+-----------+\n",
            "|         US|   24509695|R3VR960AHLFKDV|B004HB5E0E|     488241329|Shoal Creek Compu...|       Furniture|          4|            0|          0|   N|                Y|... desk is very ...|This desk is very...| 2015-08-31|\n",
            "|         US|   34731776|R16LGVMFKIUT0G|B0042TNMMS|     205864445|Dorel Home Produc...|       Furniture|          5|            0|          0|   N|                Y|          Five Stars|          Great item| 2015-08-31|\n",
            "|         US|    1272331|R1AIMEEPYHMOE4|B0030MPBZ4|     124663823|Bathroom Vanity T...|       Furniture|          5|            1|          1|   N|                Y|          Five Stars|Perfect fit for m...| 2015-08-31|\n",
            "|         US|   45284262|R1892CCSZWZ9SR|B005G02ESA|     382367578|Sleep Master Ulti...|       Furniture|          3|            0|          0|   N|                Y|         Good enough|We use this on a ...| 2015-08-31|\n",
            "|         US|   30003523|R285P679YWVKD1|B005JS8AUA|     309497463|1 1/4\" GashGuards...|       Furniture|          3|            0|          0|   N|                N|Gash Gards for da...|The product is fi...| 2015-08-31|\n",
            "|         US|   18311821| RLB33HJBXHZHU|B00AVUQQGQ|     574537906|Serta Bonded Leat...|       Furniture|          5|            0|          0|   N|                Y|          Five Stars|Love this product...| 2015-08-31|\n",
            "|         US|   42943632|R1VGTZ94DBAD6A|B00CFY20GQ|     407473883|Prepac Shoe Stora...|       Furniture|          5|            2|          2|   N|                Y|   I love this bench|I love this bench...| 2015-08-31|\n",
            "|         US|   43157304|R168KF82ICSOHD|B00FKC48QA|     435120460|HomCom PU Leather...|       Furniture|          5|            0|          0|   N|                Y|Great storage cap...|Have had this for...| 2015-08-31|\n",
            "|         US|   51918480|R20DIYIJ0OCMOG|B00N9IAL9K|     356495985|  Folding Step Stool|       Furniture|          5|            0|          0|   N|                Y|This is the best ...|This is the best ...| 2015-08-31|\n",
            "|         US|   14522766| RD46RNVOHNZSC|B001T4XU1C|     243050228|Ace Bayou Adult V...|       Furniture|          5|            0|          0|   N|                Y|    great for price!|    my son loves it!| 2015-08-31|\n",
            "|         US|   43054112|R2JDOCETTM3AXS|B002HRFLBC|      93574483|4D Concepts Audio...|       Furniture|          5|            0|          0|   N|                Y|          Five Stars|       Great product| 2015-08-31|\n",
            "|         US|   26622950|R33YMW36IDZ6LE|B006MISZOC|     941823468|Zinus SC-SBBK-14N...|       Furniture|          5|            0|          0|   N|                Y|             perfect|bought with sleep...| 2015-08-31|\n",
            "|         US|   17988940|R30ZGGUHZ04C1S|B008BMGABC|     460567746|Poundex Marble Di...|       Furniture|          5|            1|          1|   N|                Y|   Very satisfied!!!|Delivery was on t...| 2015-08-31|\n",
            "|         US|   18444952| RS2EZU76IK2BT|B00CO2VH5Y|     829613894|Safavieh Lyndhurs...|       Furniture|          5|            0|          0|   N|                Y|soft and great fo...|Exactly as pictur...| 2015-08-31|\n",
            "|         US|   16937084|R1GJC1BP028XO9|B00LI4RJQ0|     816478187|Sauder Boone Moun...|       Furniture|          5|            2|          3|   N|                Y|        Great table.|Beautiful table. ...| 2015-08-31|\n",
            "|         US|   23665632|R2VKJPGXXEK5GP|B0046EC1D0|     358594389|Winsome Wood Brea...|       Furniture|          1|            0|          0|   N|                Y|Not what I expect...|I have cleaned up...| 2015-08-31|\n",
            "|         US|    4110125|R17KS83G3KLT97|B00DQQPL36|     312571325|HODEDAH IMPORT Me...|       Furniture|          3|            0|          0|   N|                Y|         Three Stars|First one came in...| 2015-08-31|\n",
            "|         US|     107621|R3PQL8SR4NEHWL|B003X7RWB2|     402665054|Flash Furniture H...|       Furniture|          4|            0|          0|   N|                Y|          Four Stars|Good deal to get ...| 2015-08-31|\n",
            "|         US|    2415090|R2F5WW7WNO5RRG|B001TJYPJ8|     854989315|Sleep Revolution ...|       Furniture|          5|            0|          0|   N|                Y|          Five Stars|Comfortable and e...| 2015-08-31|\n",
            "|         US|   48285966|R3UDJKVWQCFIC9|B000TMHX9A|     814079288|Flash Furniture V...|       Furniture|          5|            0|          0|   N|                Y|Very comfortable....|As advertised. Ve...| 2015-08-31|\n",
            "+-----------+-----------+--------------+----------+--------------+--------------------+----------------+-----------+-------------+-----------+----+-----------------+--------------------+--------------------+-----------+\n",
            "only showing top 20 rows\n",
            "\n"
          ],
          "name": "stdout"
        }
      ]
    },
    {
      "cell_type": "code",
      "metadata": {
        "id": "GDTg_jAC7P-c"
      },
      "source": [
        ""
      ],
      "execution_count": 6,
      "outputs": []
    },
    {
      "cell_type": "code",
      "metadata": {
        "id": "lzMmkdKmY--D",
        "colab": {
          "base_uri": "https://localhost:8080/"
        },
        "outputId": "ebba4f34-59a0-43d5-b53a-58040c748a61"
      },
      "source": [
        "# Create the vine_table. DataFrame\n",
        "##df.columns\n",
        "vine_df = df.select(['review_id','star_rating','helpful_votes','total_votes','vine','verified_purchase'])\n",
        "vine_df.show()"
      ],
      "execution_count": 7,
      "outputs": [
        {
          "output_type": "stream",
          "text": [
            "+--------------+-----------+-------------+-----------+----+-----------------+\n",
            "|     review_id|star_rating|helpful_votes|total_votes|vine|verified_purchase|\n",
            "+--------------+-----------+-------------+-----------+----+-----------------+\n",
            "|R3VR960AHLFKDV|          4|            0|          0|   N|                Y|\n",
            "|R16LGVMFKIUT0G|          5|            0|          0|   N|                Y|\n",
            "|R1AIMEEPYHMOE4|          5|            1|          1|   N|                Y|\n",
            "|R1892CCSZWZ9SR|          3|            0|          0|   N|                Y|\n",
            "|R285P679YWVKD1|          3|            0|          0|   N|                N|\n",
            "| RLB33HJBXHZHU|          5|            0|          0|   N|                Y|\n",
            "|R1VGTZ94DBAD6A|          5|            2|          2|   N|                Y|\n",
            "|R168KF82ICSOHD|          5|            0|          0|   N|                Y|\n",
            "|R20DIYIJ0OCMOG|          5|            0|          0|   N|                Y|\n",
            "| RD46RNVOHNZSC|          5|            0|          0|   N|                Y|\n",
            "|R2JDOCETTM3AXS|          5|            0|          0|   N|                Y|\n",
            "|R33YMW36IDZ6LE|          5|            0|          0|   N|                Y|\n",
            "|R30ZGGUHZ04C1S|          5|            1|          1|   N|                Y|\n",
            "| RS2EZU76IK2BT|          5|            0|          0|   N|                Y|\n",
            "|R1GJC1BP028XO9|          5|            2|          3|   N|                Y|\n",
            "|R2VKJPGXXEK5GP|          1|            0|          0|   N|                Y|\n",
            "|R17KS83G3KLT97|          3|            0|          0|   N|                Y|\n",
            "|R3PQL8SR4NEHWL|          4|            0|          0|   N|                Y|\n",
            "|R2F5WW7WNO5RRG|          5|            0|          0|   N|                Y|\n",
            "|R3UDJKVWQCFIC9|          5|            0|          0|   N|                Y|\n",
            "+--------------+-----------+-------------+-----------+----+-----------------+\n",
            "only showing top 20 rows\n",
            "\n"
          ],
          "name": "stdout"
        }
      ]
    },
    {
      "cell_type": "code",
      "metadata": {
        "colab": {
          "base_uri": "https://localhost:8080/"
        },
        "id": "44KjlZqA54eh",
        "outputId": "d9c9c8b6-ba5c-4bf8-c576-5987a8d609b5"
      },
      "source": [
        "vine_df.printSchema()"
      ],
      "execution_count": 8,
      "outputs": [
        {
          "output_type": "stream",
          "text": [
            "root\n",
            " |-- review_id: string (nullable = true)\n",
            " |-- star_rating: integer (nullable = true)\n",
            " |-- helpful_votes: integer (nullable = true)\n",
            " |-- total_votes: integer (nullable = true)\n",
            " |-- vine: string (nullable = true)\n",
            " |-- verified_purchase: string (nullable = true)\n",
            "\n"
          ],
          "name": "stdout"
        }
      ]
    },
    {
      "cell_type": "markdown",
      "metadata": {
        "id": "yOCIILs7i14P"
      },
      "source": [
        "# Step 1"
      ]
    },
    {
      "cell_type": "code",
      "metadata": {
        "id": "GXHc6k3BHQuk"
      },
      "source": [
        "import pandas as pd\n",
        "from pyspark.sql.functions import pandas_udf\n",
        "from pyspark.sql.types import DataType\n",
        "from pyspark.sql.functions import udf"
      ],
      "execution_count": 9,
      "outputs": []
    },
    {
      "cell_type": "code",
      "metadata": {
        "colab": {
          "base_uri": "https://localhost:8080/"
        },
        "id": "i30UQn3Uh45U",
        "outputId": "c5e53952-6397-4253-e5c2-a7ace9591183"
      },
      "source": [
        "# Filter data & CREATE A NEW DataFrame to retrieve all the rows \n",
        "# where total_votes `count is equal to or greater than 20\n",
        "total_votes_df=vine_df.where(\"total_votes >=20\")#.select(['review_id','star_rating','helpful_votes','total_votes','vine','verified_purchase']).show(truncate=False)\n",
        "total_votes_df.select(['review_id','star_rating','helpful_votes','total_votes','vine','verified_purchase']).show(truncate=False)"
      ],
      "execution_count": 10,
      "outputs": [
        {
          "output_type": "stream",
          "text": [
            "+--------------+-----------+-------------+-----------+----+-----------------+\n",
            "|review_id     |star_rating|helpful_votes|total_votes|vine|verified_purchase|\n",
            "+--------------+-----------+-------------+-----------+----+-----------------+\n",
            "|RL8D0KJ0J9L0O |5          |152          |165        |N   |Y                |\n",
            "|R1BEINAIQFBRJC|5          |21           |23         |N   |Y                |\n",
            "|R2L59KIJH302P9|4          |26           |26         |N   |Y                |\n",
            "|RR99CPG695T0I |5          |215          |248        |N   |N                |\n",
            "|R1XQNKKUPCMWVO|5          |43           |44         |N   |Y                |\n",
            "|R3JUXVCT1NSK2A|3          |25           |26         |N   |Y                |\n",
            "|R3GNSIFV1J2Y2B|1          |15           |60         |N   |N                |\n",
            "|RTCRZARYY4LXX |5          |52           |54         |N   |Y                |\n",
            "|R3OFB4P7Y8WR27|1          |15           |26         |N   |Y                |\n",
            "|R3MTAYGQM25N63|4          |58           |59         |N   |Y                |\n",
            "|RJNDSWES5ISZ7 |5          |78           |79         |N   |Y                |\n",
            "|R15R7STOZZP2A4|5          |33           |34         |N   |Y                |\n",
            "|R33V5WV529NK8E|4          |30           |32         |N   |Y                |\n",
            "|RIR9ZI3L80P7P |3          |72           |76         |N   |N                |\n",
            "|R10P6SDC1D6C3I|5          |23           |25         |N   |Y                |\n",
            "|R110G9UVLI2MLS|5          |52           |55         |N   |Y                |\n",
            "|R1I4LN1WR3YVJX|1          |31           |40         |N   |Y                |\n",
            "|R1B76MPCS05UX9|5          |19           |21         |N   |Y                |\n",
            "|R17PJIKAZ3U6BG|5          |21           |21         |N   |Y                |\n",
            "|R2T3TLCX42RWLY|5          |46           |48         |N   |Y                |\n",
            "+--------------+-----------+-------------+-----------+----+-----------------+\n",
            "only showing top 20 rows\n",
            "\n"
          ],
          "name": "stdout"
        }
      ]
    },
    {
      "cell_type": "markdown",
      "metadata": {
        "id": "kI1WRNjYi5Vv"
      },
      "source": [
        "# Step 2"
      ]
    },
    {
      "cell_type": "code",
      "metadata": {
        "colab": {
          "base_uri": "https://localhost:8080/"
        },
        "id": "iSnHnE00FSXg",
        "outputId": "e8f487e7-d092-4794-9855-873b9f385072"
      },
      "source": [
        "# #Filter the DataFrame created in Step1 & CREATE A NEW DataFrame to retrieve all the rows \n",
        "# where the number of helpful_votes divided by total_votes is equal to or greater than 50%\n",
        "helpful__df = total_votes_df.where(total_votes_df['helpful_votes']/total_votes_df['total_votes'] >= 0.50)\n",
        "helpful__df.select(['review_id','star_rating','helpful_votes','total_votes','vine','verified_purchase']).show(truncate=False)\n",
        "helpful__df.count()"
      ],
      "execution_count": 24,
      "outputs": [
        {
          "output_type": "stream",
          "text": [
            "+--------------+-----------+-------------+-----------+----+-----------------+\n",
            "|review_id     |star_rating|helpful_votes|total_votes|vine|verified_purchase|\n",
            "+--------------+-----------+-------------+-----------+----+-----------------+\n",
            "|RL8D0KJ0J9L0O |5          |152          |165        |N   |Y                |\n",
            "|R1BEINAIQFBRJC|5          |21           |23         |N   |Y                |\n",
            "|R2L59KIJH302P9|4          |26           |26         |N   |Y                |\n",
            "|RR99CPG695T0I |5          |215          |248        |N   |N                |\n",
            "|R1XQNKKUPCMWVO|5          |43           |44         |N   |Y                |\n",
            "|R3JUXVCT1NSK2A|3          |25           |26         |N   |Y                |\n",
            "|RTCRZARYY4LXX |5          |52           |54         |N   |Y                |\n",
            "|R3OFB4P7Y8WR27|1          |15           |26         |N   |Y                |\n",
            "|R3MTAYGQM25N63|4          |58           |59         |N   |Y                |\n",
            "|RJNDSWES5ISZ7 |5          |78           |79         |N   |Y                |\n",
            "|R15R7STOZZP2A4|5          |33           |34         |N   |Y                |\n",
            "|R33V5WV529NK8E|4          |30           |32         |N   |Y                |\n",
            "|RIR9ZI3L80P7P |3          |72           |76         |N   |N                |\n",
            "|R10P6SDC1D6C3I|5          |23           |25         |N   |Y                |\n",
            "|R110G9UVLI2MLS|5          |52           |55         |N   |Y                |\n",
            "|R1I4LN1WR3YVJX|1          |31           |40         |N   |Y                |\n",
            "|R1B76MPCS05UX9|5          |19           |21         |N   |Y                |\n",
            "|R17PJIKAZ3U6BG|5          |21           |21         |N   |Y                |\n",
            "|R2T3TLCX42RWLY|5          |46           |48         |N   |Y                |\n",
            "|R39YWJ09ZCPW7P|5          |24           |28         |N   |Y                |\n",
            "+--------------+-----------+-------------+-----------+----+-----------------+\n",
            "only showing top 20 rows\n",
            "\n"
          ],
          "name": "stdout"
        },
        {
          "output_type": "execute_result",
          "data": {
            "text/plain": [
              "18155"
            ]
          },
          "metadata": {
            "tags": []
          },
          "execution_count": 24
        }
      ]
    },
    {
      "cell_type": "code",
      "metadata": {
        "id": "cuWH78M8jCOa",
        "colab": {
          "base_uri": "https://localhost:8080/"
        },
        "outputId": "3b9cabcc-288d-4ef3-eab1-c3ba9baaf233"
      },
      "source": [
        "# Filter the DataFrame created in Step2, & CREATE A NEW DataFrame that retrieves all the rows \n",
        "# where a review was written as part of the Vine program (paid), vine == 'Y'\n",
        "paid_vine_df = helpful__df.filter(helpful__df.vine == 'Y')\n",
        "paid_vine_df.select(['review_id','star_rating','helpful_votes','total_votes','vine','verified_purchase']).show(truncate=False)\n",
        "paid_vine_df.count()"
      ],
      "execution_count": 20,
      "outputs": [
        {
          "output_type": "stream",
          "text": [
            "+--------------+-----------+-------------+-----------+----+-----------------+\n",
            "|review_id     |star_rating|helpful_votes|total_votes|vine|verified_purchase|\n",
            "+--------------+-----------+-------------+-----------+----+-----------------+\n",
            "|R2BQOD1R0228FN|3          |17           |26         |Y   |N                |\n",
            "|RC31RUPFOHBHQ |4          |102          |117        |Y   |N                |\n",
            "|REN3N1WITLF1Y |5          |33           |37         |Y   |N                |\n",
            "|R71RZQ9UZVG47 |4          |38           |47         |Y   |N                |\n",
            "|R38NMQBH88HLM6|4          |18           |24         |Y   |N                |\n",
            "|R33FGX9EE3QVR6|4          |26           |26         |Y   |N                |\n",
            "|R1KIOIK6WEYE59|3          |19           |20         |Y   |N                |\n",
            "|R25X9BMOB3FD0E|4          |32           |37         |Y   |N                |\n",
            "|R3VCKFCX2377Q2|4          |95           |101        |Y   |N                |\n",
            "|R1E0OUG63HMSM4|3          |58           |61         |Y   |N                |\n",
            "|R1V45RUW5ZB3LS|4          |19           |21         |Y   |N                |\n",
            "|RTF6DSZ1UTLHH |5          |401          |418        |Y   |N                |\n",
            "|R1CZV9N2YLJAP7|5          |123          |136        |Y   |Y                |\n",
            "|R1OF3X9W99Y300|4          |27           |35         |Y   |N                |\n",
            "|R1JYKEH4CQVJ1B|5          |22           |23         |Y   |N                |\n",
            "|R1093XVB0H2QOL|4          |51           |54         |Y   |N                |\n",
            "|R3Q81B31F1CPGH|3          |50           |55         |Y   |N                |\n",
            "|R2P6XIZZPJF7AE|5          |46           |51         |Y   |N                |\n",
            "|R3N5S06UW5MKFE|3          |907          |925        |Y   |N                |\n",
            "|R3J9EJCVKFCRWO|5          |18           |20         |Y   |N                |\n",
            "+--------------+-----------+-------------+-----------+----+-----------------+\n",
            "only showing top 20 rows\n",
            "\n"
          ],
          "name": "stdout"
        },
        {
          "output_type": "execute_result",
          "data": {
            "text/plain": [
              "136"
            ]
          },
          "metadata": {
            "tags": []
          },
          "execution_count": 20
        }
      ]
    },
    {
      "cell_type": "markdown",
      "metadata": {
        "id": "GFBc9_LBjxqk"
      },
      "source": [
        "# Step 4 -UNPAID REVIEWS "
      ]
    },
    {
      "cell_type": "code",
      "metadata": {
        "id": "D5raU1l1j0sv",
        "colab": {
          "base_uri": "https://localhost:8080/"
        },
        "outputId": "69edb542-8207-4b5d-cef2-783a65adcb83"
      },
      "source": [
        "# Filter the DataFrame created in Step2, & CREATE A NEW DataFrame that retrieves all the rows \n",
        "#  where the review was not part of the Vine program (unpaid), vine == 'N'\n",
        "unpaid_vine_df = helpful__df.filter(helpful__df.vine == 'N')\n",
        "unpaid_vine_df.select(['review_id','star_rating','helpful_votes','total_votes','vine','verified_purchase']).show(truncate=False)\n",
        "unpaid_vine_df.count()"
      ],
      "execution_count": 19,
      "outputs": [
        {
          "output_type": "stream",
          "text": [
            "+--------------+-----------+-------------+-----------+----+-----------------+\n",
            "|review_id     |star_rating|helpful_votes|total_votes|vine|verified_purchase|\n",
            "+--------------+-----------+-------------+-----------+----+-----------------+\n",
            "|RL8D0KJ0J9L0O |5          |152          |165        |N   |Y                |\n",
            "|R1BEINAIQFBRJC|5          |21           |23         |N   |Y                |\n",
            "|R2L59KIJH302P9|4          |26           |26         |N   |Y                |\n",
            "|RR99CPG695T0I |5          |215          |248        |N   |N                |\n",
            "|R1XQNKKUPCMWVO|5          |43           |44         |N   |Y                |\n",
            "|R3JUXVCT1NSK2A|3          |25           |26         |N   |Y                |\n",
            "|RTCRZARYY4LXX |5          |52           |54         |N   |Y                |\n",
            "|R3OFB4P7Y8WR27|1          |15           |26         |N   |Y                |\n",
            "|R3MTAYGQM25N63|4          |58           |59         |N   |Y                |\n",
            "|RJNDSWES5ISZ7 |5          |78           |79         |N   |Y                |\n",
            "|R15R7STOZZP2A4|5          |33           |34         |N   |Y                |\n",
            "|R33V5WV529NK8E|4          |30           |32         |N   |Y                |\n",
            "|RIR9ZI3L80P7P |3          |72           |76         |N   |N                |\n",
            "|R10P6SDC1D6C3I|5          |23           |25         |N   |Y                |\n",
            "|R110G9UVLI2MLS|5          |52           |55         |N   |Y                |\n",
            "|R1I4LN1WR3YVJX|1          |31           |40         |N   |Y                |\n",
            "|R1B76MPCS05UX9|5          |19           |21         |N   |Y                |\n",
            "|R17PJIKAZ3U6BG|5          |21           |21         |N   |Y                |\n",
            "|R2T3TLCX42RWLY|5          |46           |48         |N   |Y                |\n",
            "|R39YWJ09ZCPW7P|5          |24           |28         |N   |Y                |\n",
            "+--------------+-----------+-------------+-----------+----+-----------------+\n",
            "only showing top 20 rows\n",
            "\n"
          ],
          "name": "stdout"
        },
        {
          "output_type": "execute_result",
          "data": {
            "text/plain": [
              "18019"
            ]
          },
          "metadata": {
            "tags": []
          },
          "execution_count": 19
        }
      ]
    },
    {
      "cell_type": "markdown",
      "metadata": {
        "id": "UIPvHjHokG-c"
      },
      "source": [
        "# Step 5 "
      ]
    },
    {
      "cell_type": "code",
      "metadata": {
        "id": "TyOqkUkekFQ7"
      },
      "source": [
        "# Determine the total number of reviews, the number of 5-star reviews, and the percentage of 5-star reviews for the two types of review (paid vs unpaid)."
      ],
      "execution_count": 14,
      "outputs": []
    },
    {
      "cell_type": "markdown",
      "metadata": {
        "id": "UgE28A_mFIoe"
      },
      "source": [
        "### Determine the total number of reviews,"
      ]
    },
    {
      "cell_type": "code",
      "metadata": {
        "colab": {
          "base_uri": "https://localhost:8080/"
        },
        "id": "wy8FOiGSEKNQ",
        "outputId": "80403aec-1b25-455b-e9f9-58fac39abc56"
      },
      "source": [
        "#total Reviews \n",
        "total_reviews = helpful__df.count()\n",
        "total_reviews "
      ],
      "execution_count": 15,
      "outputs": [
        {
          "output_type": "execute_result",
          "data": {
            "text/plain": [
              "18155"
            ]
          },
          "metadata": {
            "tags": []
          },
          "execution_count": 15
        }
      ]
    },
    {
      "cell_type": "markdown",
      "metadata": {
        "id": "IcYoZ6RiFPYM"
      },
      "source": [
        "### Determine the number of 5-star reviews, "
      ]
    },
    {
      "cell_type": "code",
      "metadata": {
        "colab": {
          "base_uri": "https://localhost:8080/"
        },
        "id": "kCrDdHr2Fdw8",
        "outputId": "3a21bd1f-4eac-4e10-a886-167452c1166d"
      },
      "source": [
        "total_five_stars = helpful__df.filter(helpful__df.star_rating ==5).count()\n",
        "total_five_stars"
      ],
      "execution_count": 16,
      "outputs": [
        {
          "output_type": "execute_result",
          "data": {
            "text/plain": [
              "8556"
            ]
          },
          "metadata": {
            "tags": []
          },
          "execution_count": 16
        }
      ]
    },
    {
      "cell_type": "code",
      "metadata": {
        "colab": {
          "base_uri": "https://localhost:8080/"
        },
        "id": "RuzZA9DGHbnf",
        "outputId": "08c7929f-1a4e-440c-a6c8-5dbf7d71580c"
      },
      "source": [
        "total_five_stars/total_reviews*100"
      ],
      "execution_count": 17,
      "outputs": [
        {
          "output_type": "execute_result",
          "data": {
            "text/plain": [
              "47.12751308179565"
            ]
          },
          "metadata": {
            "tags": []
          },
          "execution_count": 17
        }
      ]
    },
    {
      "cell_type": "markdown",
      "metadata": {
        "id": "fcTBzF0pF3cW"
      },
      "source": [
        "### Percentage of PAID 5-star reviews "
      ]
    },
    {
      "cell_type": "code",
      "metadata": {
        "colab": {
          "base_uri": "https://localhost:8080/"
        },
        "id": "921NhR4jC_oI",
        "outputId": "432498da-be85-44c5-f567-db6d99a8c654"
      },
      "source": [
        "# paid total number of reviews\n",
        "total_paid_reviews = paid_vine_df.count()\n",
        "total_paid_reviews"
      ],
      "execution_count": 22,
      "outputs": [
        {
          "output_type": "execute_result",
          "data": {
            "text/plain": [
              "136"
            ]
          },
          "metadata": {
            "tags": []
          },
          "execution_count": 22
        }
      ]
    },
    {
      "cell_type": "code",
      "metadata": {
        "colab": {
          "base_uri": "https://localhost:8080/"
        },
        "id": "hPA63ft0FTs6",
        "outputId": "da9ff5c8-a1e8-4f4d-f6f3-44233e0d2633"
      },
      "source": [
        "paid_five_stars = paid_vine_df.filter(paid_vine_df.star_rating == 5).count()\n",
        "paid_five_stars"
      ],
      "execution_count": 21,
      "outputs": [
        {
          "output_type": "execute_result",
          "data": {
            "text/plain": [
              "74"
            ]
          },
          "metadata": {
            "tags": []
          },
          "execution_count": 21
        }
      ]
    },
    {
      "cell_type": "code",
      "metadata": {
        "colab": {
          "base_uri": "https://localhost:8080/"
        },
        "id": "63xJdAYvHxG2",
        "outputId": "58b59bb5-7685-4b7e-d02f-d4ee2268b8da"
      },
      "source": [
        "paid_five_stars/total_paid_reviews*100"
      ],
      "execution_count": 23,
      "outputs": [
        {
          "output_type": "execute_result",
          "data": {
            "text/plain": [
              "54.41176470588235"
            ]
          },
          "metadata": {
            "tags": []
          },
          "execution_count": 23
        }
      ]
    },
    {
      "cell_type": "markdown",
      "metadata": {
        "id": "LWF2cGoGGCk9"
      },
      "source": [
        "### Percentage of UNPAID 5-star reviews"
      ]
    },
    {
      "cell_type": "code",
      "metadata": {
        "colab": {
          "base_uri": "https://localhost:8080/"
        },
        "id": "6uXf-xHXDFLI",
        "outputId": "d0583d03-2acf-46ee-93a8-f67d5627da4a"
      },
      "source": [
        "total_unpaid_reviews = unpaid_vine_df.count()\n",
        "total_unpaid_reviews"
      ],
      "execution_count": 25,
      "outputs": [
        {
          "output_type": "execute_result",
          "data": {
            "text/plain": [
              "18019"
            ]
          },
          "metadata": {
            "tags": []
          },
          "execution_count": 25
        }
      ]
    },
    {
      "cell_type": "code",
      "metadata": {
        "colab": {
          "base_uri": "https://localhost:8080/"
        },
        "id": "m8wXv0niDSAF",
        "outputId": "f403db58-9c35-4896-d568-9b200f925fff"
      },
      "source": [
        "# paid 5-star reviews\n",
        "unpaid_five_stars = unpaid_vine_df.filter(unpaid_vine_df.star_rating == 5).count()\n",
        "unpaid_five_stars "
      ],
      "execution_count": 26,
      "outputs": [
        {
          "output_type": "execute_result",
          "data": {
            "text/plain": [
              "8482"
            ]
          },
          "metadata": {
            "tags": []
          },
          "execution_count": 26
        }
      ]
    },
    {
      "cell_type": "code",
      "metadata": {
        "colab": {
          "base_uri": "https://localhost:8080/"
        },
        "id": "GoUjHSqcIRe0",
        "outputId": "8be3b539-cbf6-4288-9ea3-b829056f7754"
      },
      "source": [
        "unpaid_five_stars/total_unpaid_reviews*100"
      ],
      "execution_count": 27,
      "outputs": [
        {
          "output_type": "execute_result",
          "data": {
            "text/plain": [
              "47.072534546867196"
            ]
          },
          "metadata": {
            "tags": []
          },
          "execution_count": 27
        }
      ]
    },
    {
      "cell_type": "markdown",
      "metadata": {
        "id": "7DEVzddjHSNq"
      },
      "source": [
        ""
      ]
    }
  ]
}